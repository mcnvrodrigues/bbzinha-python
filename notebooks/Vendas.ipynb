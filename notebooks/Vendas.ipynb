{
 "cells": [
  {
   "cell_type": "code",
   "execution_count": 42,
   "id": "d08a0443-2e01-4d13-8808-a3bffb800bee",
   "metadata": {},
   "outputs": [],
   "source": [
    "import pandas as pd"
   ]
  },
  {
   "cell_type": "code",
   "execution_count": 43,
   "id": "797cb8a9-b75e-4d3e-ad78-01537ed0a553",
   "metadata": {},
   "outputs": [],
   "source": [
    "arquivo = \"../data/vendas.xlsx\""
   ]
  },
  {
   "cell_type": "code",
   "execution_count": 44,
   "id": "b8c5a09a-c988-48fe-802b-82089135aac4",
   "metadata": {},
   "outputs": [],
   "source": [
    "df = pd.read_excel(arquivo)"
   ]
  },
  {
   "cell_type": "code",
   "execution_count": 45,
   "id": "1871b762-dce7-4cdf-b890-3506ded84a4e",
   "metadata": {},
   "outputs": [
    {
     "data": {
      "text/html": [
       "<div>\n",
       "<style scoped>\n",
       "    .dataframe tbody tr th:only-of-type {\n",
       "        vertical-align: middle;\n",
       "    }\n",
       "\n",
       "    .dataframe tbody tr th {\n",
       "        vertical-align: top;\n",
       "    }\n",
       "\n",
       "    .dataframe thead th {\n",
       "        text-align: right;\n",
       "    }\n",
       "</style>\n",
       "<table border=\"1\" class=\"dataframe\">\n",
       "  <thead>\n",
       "    <tr style=\"text-align: right;\">\n",
       "      <th></th>\n",
       "      <th>Data</th>\n",
       "      <th>Vendedor</th>\n",
       "      <th>Produto</th>\n",
       "      <th>Quantidade</th>\n",
       "      <th>Valor Unitário</th>\n",
       "      <th>Valor Total</th>\n",
       "    </tr>\n",
       "  </thead>\n",
       "  <tbody>\n",
       "    <tr>\n",
       "      <th>0</th>\n",
       "      <td>2024-05-21</td>\n",
       "      <td>Raissa Souza</td>\n",
       "      <td>Notebook</td>\n",
       "      <td>1</td>\n",
       "      <td>3200</td>\n",
       "      <td>3200</td>\n",
       "    </tr>\n",
       "    <tr>\n",
       "      <th>1</th>\n",
       "      <td>2024-05-21</td>\n",
       "      <td>Ana Ribeiro</td>\n",
       "      <td>Notebook</td>\n",
       "      <td>5</td>\n",
       "      <td>3200</td>\n",
       "      <td>16000</td>\n",
       "    </tr>\n",
       "    <tr>\n",
       "      <th>2</th>\n",
       "      <td>2024-05-08</td>\n",
       "      <td>João Silva</td>\n",
       "      <td>Impressora</td>\n",
       "      <td>2</td>\n",
       "      <td>850</td>\n",
       "      <td>1700</td>\n",
       "    </tr>\n",
       "    <tr>\n",
       "      <th>3</th>\n",
       "      <td>2024-05-22</td>\n",
       "      <td>Fernanda Costa</td>\n",
       "      <td>Notebook</td>\n",
       "      <td>10</td>\n",
       "      <td>3200</td>\n",
       "      <td>32000</td>\n",
       "    </tr>\n",
       "    <tr>\n",
       "      <th>4</th>\n",
       "      <td>2024-05-14</td>\n",
       "      <td>Ana Ribeiro</td>\n",
       "      <td>Notebook</td>\n",
       "      <td>2</td>\n",
       "      <td>3200</td>\n",
       "      <td>6400</td>\n",
       "    </tr>\n",
       "  </tbody>\n",
       "</table>\n",
       "</div>"
      ],
      "text/plain": [
       "         Data        Vendedor     Produto  Quantidade  Valor Unitário  \\\n",
       "0  2024-05-21    Raissa Souza    Notebook           1            3200   \n",
       "1  2024-05-21     Ana Ribeiro    Notebook           5            3200   \n",
       "2  2024-05-08      João Silva  Impressora           2             850   \n",
       "3  2024-05-22  Fernanda Costa    Notebook          10            3200   \n",
       "4  2024-05-14     Ana Ribeiro    Notebook           2            3200   \n",
       "\n",
       "   Valor Total  \n",
       "0         3200  \n",
       "1        16000  \n",
       "2         1700  \n",
       "3        32000  \n",
       "4         6400  "
      ]
     },
     "execution_count": 45,
     "metadata": {},
     "output_type": "execute_result"
    }
   ],
   "source": [
    "df.head()"
   ]
  },
  {
   "cell_type": "code",
   "execution_count": 46,
   "id": "1a77cf5f-6faf-42c1-8755-8030a06e083e",
   "metadata": {},
   "outputs": [],
   "source": [
    "vendas = df.to_dict(orient=\"records\")"
   ]
  },
  {
   "cell_type": "code",
   "execution_count": 47,
   "id": "82377fbc-c594-438f-9515-6932a54a6d74",
   "metadata": {},
   "outputs": [],
   "source": [
    "#retorna a lista de vendedores de uma lista de vendas\n",
    "def vendedores(vendas):\n",
    "    vendedores = []\n",
    "    for venda in vendas:\n",
    "        if venda[\"Vendedor\"] not in vendedores:\n",
    "            vendedores.append(venda[\"Vendedor\"])\n",
    "\n",
    "    return vendedores"
   ]
  },
  {
   "cell_type": "code",
   "execution_count": 48,
   "id": "b3172d12-0419-40a3-a36d-be001d4d7c06",
   "metadata": {},
   "outputs": [],
   "source": [
    "#retorna o indice de um produto em um lista de vendas\n",
    "def retornaIndice(lista, produto):\n",
    "    indice = 0\n",
    "\n",
    "    for i, item in enumerate(lista):\n",
    "        if item['nome'] == produto:\n",
    "            indice = i\n",
    "            break\n",
    "\n",
    "    return indice"
   ]
  },
  {
   "cell_type": "code",
   "execution_count": 49,
   "id": "3d7b5fb1-71c2-4ae2-b017-6a9d23414b5d",
   "metadata": {},
   "outputs": [],
   "source": [
    "#retorna um dicionário com produtos e quantidades de um vendedor de uma lista de vendas\n",
    "def totalVendedor(vendedor, vendas):\n",
    "    lista = {\"produtos\": [], \"qtdTotal\": 0, \"Valortotal\": 0}\n",
    "    \n",
    "    for venda in vendas:\n",
    "        \n",
    "        if venda[\"Vendedor\"] == vendedor:      \n",
    "            \n",
    "            listaProdutos = lista[\"produtos\"]\n",
    "            \n",
    "            if any(item['nome'] == venda['Produto'] for item in listaProdutos):\n",
    "\n",
    "                indiceProduto = retornaIndice(listaProdutos, venda['Produto'])\n",
    "                    \n",
    "                lista[\"produtos\"][indiceProduto][\"qtd\"] += venda[\"Quantidade\"] \n",
    "\n",
    "            else:                \n",
    "                produto = {\"nome\": venda[\"Produto\"], \"qtd\": venda[\"Quantidade\"]}\n",
    "                lista[\"produtos\"].append(produto)\n",
    "\n",
    "            lista[\"qtdTotal\"]+= venda[\"Quantidade\"] \n",
    "            lista[\"Valortotal\"]+= venda[\"Valor Total\"]\n",
    "\n",
    "    return lista"
   ]
  },
  {
   "cell_type": "code",
   "execution_count": 50,
   "id": "81e54789-0504-4e7f-ac95-0b715b2bdaa4",
   "metadata": {},
   "outputs": [
    {
     "data": {
      "text/plain": [
       "['Raissa Souza',\n",
       " 'Ana Ribeiro',\n",
       " 'João Silva',\n",
       " 'Fernanda Costa',\n",
       " 'Carlos Lima',\n",
       " 'Beatriz Souza']"
      ]
     },
     "execution_count": 50,
     "metadata": {},
     "output_type": "execute_result"
    }
   ],
   "source": [
    "vendedores(vendas)"
   ]
  },
  {
   "cell_type": "code",
   "execution_count": 51,
   "id": "ca4f4e72-2772-4233-899f-8b1b93fe92f6",
   "metadata": {},
   "outputs": [
    {
     "data": {
      "text/plain": [
       "{'produtos': [{'nome': 'Notebook', 'qtd': 1}],\n",
       " 'qtdTotal': 1,\n",
       " 'Valortotal': 3200}"
      ]
     },
     "execution_count": 51,
     "metadata": {},
     "output_type": "execute_result"
    }
   ],
   "source": [
    "totalVendedor(\"Raissa Souza\", vendas)"
   ]
  }
 ],
 "metadata": {
  "kernelspec": {
   "display_name": "Python 3",
   "language": "python",
   "name": "python3"
  },
  "language_info": {
   "codemirror_mode": {
    "name": "ipython",
    "version": 3
   },
   "file_extension": ".py",
   "mimetype": "text/x-python",
   "name": "python",
   "nbconvert_exporter": "python",
   "pygments_lexer": "ipython3",
   "version": "3.12.10"
  }
 },
 "nbformat": 4,
 "nbformat_minor": 5
}
