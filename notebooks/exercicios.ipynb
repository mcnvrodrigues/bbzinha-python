{
 "cells": [
  {
   "cell_type": "code",
   "execution_count": null,
   "id": "37562500",
   "metadata": {},
   "outputs": [],
   "source": [
    "#versão 1\n",
    "def rita_v1(x):\n",
    "    print(\"#v1:\")\n",
    "    for i in range(6):\n",
    "        print(i, '-', x, 'x', i, '=', x * i)\n",
    "\n",
    "    print()\n"
   ]
  },
  {
   "cell_type": "code",
   "execution_count": 39,
   "id": "0bedd942",
   "metadata": {},
   "outputs": [],
   "source": [
    "#versão 2\n",
    "def rita_v2(x):\n",
    "    print(\"#v2:\")\n",
    "    for i in range(6):\n",
    "        vi = f\"{i}\"\n",
    "        conta = f\"{x} x {i}\"\n",
    "        total = x * i\n",
    "        print(vi, '-', conta , '=', total)\n",
    "    print()\n"
   ]
  },
  {
   "cell_type": "code",
   "execution_count": null,
   "id": "e445a915",
   "metadata": {},
   "outputs": [],
   "source": [
    "#versão 3\n",
    "def rita_v3(x):\n",
    "    print(\"#v3:\")\n",
    "    for i in range(6):\n",
    "        print(f\"{i} - {x} x {i} = {x * i}\")\n",
    "    print()\n"
   ]
  },
  {
   "cell_type": "code",
   "execution_count": null,
   "id": "27574330",
   "metadata": {},
   "outputs": [],
   "source": [
    "#recupera valor digitado por usuário  e salva na variável valor\n",
    "try:\n",
    "    valor = int(input(\"Digite um valor: \")) \n",
    "except ValueError as erro:\n",
    "    valor = 1 #caso usuário digite um valor inválido, é inserido o valor 1 na variável valor\n",
    "    print(\"Por favor, digite um número inteiro válido.\")\n",
    "    print(f\"cod erro: {erro}\")\n"
   ]
  },
  {
   "cell_type": "code",
   "execution_count": null,
   "id": "4c5e817c",
   "metadata": {},
   "outputs": [
    {
     "name": "stdout",
     "output_type": "stream",
     "text": [
      "#v2:\n",
      "0 - 4 x 0 = 0\n",
      "1 - 4 x 1 = 4\n",
      "2 - 4 x 2 = 8\n",
      "3 - 4 x 3 = 12\n",
      "4 - 4 x 4 = 16\n",
      "5 - 4 x 5 = 20\n",
      "\n",
      "#v3:\n",
      "0 - 4 x 0 = 0\n",
      "1 - 4 x 1 = 4\n",
      "2 - 4 x 2 = 8\n",
      "3 - 4 x 3 = 12\n",
      "4 - 4 x 4 = 16\n",
      "5 - 4 x 5 = 20\n",
      "\n"
     ]
    }
   ],
   "source": [
    "#execuções\n",
    "#rita_v1(valor)\n",
    "#rita_v2(valor)\n",
    "rita_v3(valor)"
   ]
  }
 ],
 "metadata": {
  "kernelspec": {
   "display_name": "Python 3",
   "language": "python",
   "name": "python3"
  },
  "language_info": {
   "codemirror_mode": {
    "name": "ipython",
    "version": 3
   },
   "file_extension": ".py",
   "mimetype": "text/x-python",
   "name": "python",
   "nbconvert_exporter": "python",
   "pygments_lexer": "ipython3",
   "version": "3.12.10"
  }
 },
 "nbformat": 4,
 "nbformat_minor": 5
}
